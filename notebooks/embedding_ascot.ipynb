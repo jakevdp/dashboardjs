{
 "metadata": {
  "name": "embedding_ascot"
 },
 "nbformat": 3,
 "nbformat_minor": 0,
 "worksheets": [
  {
   "cells": [
    {
     "cell_type": "markdown",
     "metadata": {},
     "source": [
      "Enable pylab mode for interactive plotting"
     ]
    },
    {
     "cell_type": "code",
     "collapsed": false,
     "input": [
      "%pylab"
     ],
     "language": "python",
     "metadata": {},
     "outputs": []
    },
    {
     "cell_type": "markdown",
     "metadata": {},
     "source": [
      "To embed ascot in the notebook, we import the ``ascot.embed()``\n",
      "function, which returns an IPython HTML object.\n",
      "Once it's up and going, click on \"Create Dashboard\" and scroll to\n",
      "the bottom to add the \"Notebook Interface\" gadget.  Now you can send\n",
      "messages back and forth between the IPython client and the ASCOT client."
     ]
    },
    {
     "cell_type": "code",
     "collapsed": false,
     "input": [
      "import ascot\n",
      "ascot.embed(\"http://localhost/\", width=1000, height=600)"
     ],
     "language": "python",
     "metadata": {},
     "outputs": []
    },
    {
     "cell_type": "markdown",
     "metadata": {},
     "source": [
      "Once you have exported a dataset, you can plot it in Python like so:"
     ]
    },
    {
     "cell_type": "code",
     "collapsed": false,
     "input": [
      "scatter(data['x'], data['y'], c=data['color'], lw=0, s=60, alpha=0.7)"
     ],
     "language": "python",
     "metadata": {},
     "outputs": []
    }
   ],
   "metadata": {}
  }
 ]
}