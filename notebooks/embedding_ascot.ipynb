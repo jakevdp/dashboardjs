{
 "metadata": {
  "name": "ascot_2"
 },
 "nbformat": 3,
 "nbformat_minor": 0,
 "worksheets": [
  {
   "cells": [
    {
     "cell_type": "markdown",
     "metadata": {},
     "source": [
      "First we'll define a function that displays Ascot in an iframe, along with a basic communication interface."
     ]
    },
    {
     "cell_type": "code",
     "collapsed": false,
     "input": [
      "# display the served content in an iframe, with some HTML elements that\n",
      "# allow message-passing between the IPython client and the external client\n",
      "\n",
      "from IPython.display import HTML\n",
      "\n",
      "my_source = \"\"\"\n",
      "<div style=\"border-color:black;border-style:solid;border-width:1px;padding:10px;width:400px;\">\n",
      "<button onclick=\"test_func()\">Send Message</button><input type=\"text\" id=\"messageBox\">\n",
      "<br><br>\n",
      "\n",
      "Messages Received:<br>\n",
      "<input type=\"text\" id=\"domain_name\">\n",
      "<input type=\"text\" id=\"message_name\">\n",
      "</div>\n",
      "<br>\n",
      "<iframe id=\"embedded\" src=\"{target}\" width=\"{width}\" height=\"{height}\" style=\"border-color:black;border-style:solid;border-width:1px;\"></iframe>\n",
      "<br>f\n",
      "\n",
      "<script language=\"text/Javascript\">\n",
      "function test_func(){{\n",
      "  var message = document.getElementById(\"messageBox\").value;\n",
      "  var windowRef = document.getElementById(\"embedded\").contentWindow;\n",
      "  windowRef.postMessage(message, \"{target}\");\n",
      "}}\n",
      "\n",
      "window.addEventListener(\"message\", receiveMessage, false);\n",
      "\n",
      "function receiveMessage(event)\n",
      "{{\n",
      "  document.getElementById(\"domain_name\").value = event.origin;\n",
      "  if(event.origin === \"{target}\"){{\n",
      "    document.getElementById(\"message_name\").value = event.data;\n",
      "  }}else{{\n",
      "    console.log(\"WARNING: received message from unrecognized origin\");\n",
      "  }}\n",
      "}}\n",
      "</script>\n",
      "\"\"\"\n",
      "\n",
      "def show_frame(ascot_addr, width=1000, height=600):\n",
      "    import urlparse\n",
      "    res = urlparse.urlparse(ascot_addr)\n",
      "    return HTML(my_source.format(target=\"{0}://{1}\".format(*res), width=width, height=height))"
     ],
     "language": "python",
     "metadata": {},
     "outputs": []
    },
    {
     "cell_type": "markdown",
     "metadata": {},
     "source": [
      "Now we call this function with the address of the ascot server.\n",
      "\n",
      "Once it's up and going, click on \"Create Dashboard\" and scroll to\n",
      "the bottom to add the \"Notebook Interface\" gadget.  Now you can send\n",
      "messages back and forth between the IPython client and the ASCOT client."
     ]
    },
    {
     "cell_type": "code",
     "collapsed": false,
     "input": [
      "show_frame(\"http://localhost:80/\", width=800, height=300)"
     ],
     "language": "python",
     "metadata": {},
     "outputs": []
    },
    {
     "cell_type": "code",
     "collapsed": false,
     "input": [],
     "language": "python",
     "metadata": {},
     "outputs": []
    }
   ],
   "metadata": {}
  }
 ]
}