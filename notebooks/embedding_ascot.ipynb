{
 "metadata": {
  "name": "embedding_ascot"
 },
 "nbformat": 3,
 "nbformat_minor": 0,
 "worksheets": [
  {
   "cells": [
    {
     "cell_type": "code",
     "collapsed": false,
     "input": [
      "%pylab"
     ],
     "language": "python",
     "metadata": {},
     "outputs": []
    },
    {
     "cell_type": "markdown",
     "metadata": {},
     "source": [
      "First we'll define a function that displays Ascot in an iframe, along with a basic communication interface."
     ]
    },
    {
     "cell_type": "code",
     "collapsed": false,
     "input": [
      "# display the served content in an iframe, with some HTML elements that\n",
      "# allow message-passing between the IPython client and the external client\n",
      "\n",
      "from IPython.display import HTML\n",
      "\n",
      "my_source = r\"\"\"\n",
      "<div style=\"border-color:black;border-style:solid;border-width:1px;padding:10px;width:400px;\">\n",
      "<button onclick=\"test_func()\">Send Message</button><input type=\"text\" id=\"messageBox\">\n",
      "<br><br>\n",
      "\n",
      "Messages Received:<br>\n",
      "<input type=\"text\" id=\"domain_name\">\n",
      "<input type=\"text\" id=\"message_name\">\n",
      "</div>\n",
      "<br>\n",
      "<iframe id=\"embedded\" src=\"{target}\" width=\"{width}\" height=\"{height}\" style=\"border-color:black;border-style:solid;border-width:1px;\"></iframe>\n",
      "<br>\n",
      "\n",
      "<script language=\"text/Javascript\">\n",
      "function test_func(){{\n",
      "  var message = document.getElementById(\"messageBox\").value;\n",
      "  var windowRef = document.getElementById(\"embedded\").contentWindow;\n",
      "  windowRef.postMessage(message, \"{target}\");\n",
      "}}\n",
      "\n",
      "window.addEventListener(\"message\", receiveMessage, false);\n",
      "\n",
      "function receiveMessage(event)\n",
      "{{\n",
      "  document.getElementById(\"domain_name\").value = event.origin;\n",
      "  if(event.origin === \"{target}\"){{\n",
      "    if (typeof event.data == 'string' || event.data instanceof String){{\n",
      "       document.getElementById(\"message_name\").value = event.data;\n",
      "    }}else{{\n",
      "       var kernel = IPython.notebook.kernel;\n",
      "       var code = 'import numpy as np\\n'\n",
      "       code += 'data=dict()\\n'\n",
      "\n",
      "       // Would it be better to pass a JSON rep and have python convert it?\n",
      "       for(var k in event.data[0]){{\n",
      "          if(k == \"id\" || k == \"visible\") continue;\n",
      "          code += 'data[\"' + k + '\"] = np.array([';\n",
      "          for (var i = 0; i < event.data.length; i++){{\n",
      "             if(typeof event.data[i][k] == 'string' || event.data instanceof String){{\n",
      "               code += \"'\" + event.data[i][k] + \"', \";\n",
      "             }}else{{\n",
      "               code += event.data[i][k] + ', ';\n",
      "             }}\n",
      "          }}\n",
      "          code += '])\\n';\n",
      "       }}\n",
      "       kernel.execute(code);\n",
      "       document.getElementById(\"message_name\").value = \"(data object)\";\n",
      "    }}\n",
      "  }}else{{\n",
      "    console.log(\"WARNING: received message from unrecognized origin: \" + event.origin + \". Expected origin: \" + \"{target}\");\n",
      "    console.log(event.origin);\n",
      "  }}\n",
      "}}\n",
      "</script>\n",
      "\"\"\"\n",
      "\n",
      "def show_frame(ascot_addr, width=1000, height=600):\n",
      "    import urlparse\n",
      "    res = urlparse.urlparse(ascot_addr)\n",
      "    return HTML(my_source.format(target=\"{0}://{1}\".format(*res), width=width, height=height))"
     ],
     "language": "python",
     "metadata": {},
     "outputs": []
    },
    {
     "cell_type": "markdown",
     "metadata": {},
     "source": [
      "Now we call this function with the address of the ascot server.\n",
      "\n",
      "Once it's up and going, click on \"Create Dashboard\" and scroll to\n",
      "the bottom to add the \"Notebook Interface\" gadget.  Now you can send\n",
      "messages back and forth between the IPython client and the ASCOT client."
     ]
    },
    {
     "cell_type": "code",
     "collapsed": false,
     "input": [
      "show_frame(\"http://localhost/\", width=1000, height=600)"
     ],
     "language": "python",
     "metadata": {},
     "outputs": []
    },
    {
     "cell_type": "markdown",
     "metadata": {},
     "source": [
      "Once you have exported a dataset, you can plot it in Python like so:"
     ]
    },
    {
     "cell_type": "code",
     "collapsed": false,
     "input": [
      "scatter(data['x'], data['y'], c=data['color'], lw=0, s=60, alpha=0.7)"
     ],
     "language": "python",
     "metadata": {},
     "outputs": []
    },
    {
     "cell_type": "code",
     "collapsed": false,
     "input": [],
     "language": "python",
     "metadata": {},
     "outputs": []
    }
   ],
   "metadata": {}
  }
 ]
}